{
 "cells": [
  {
   "cell_type": "markdown",
   "id": "9aab8253-caeb-4629-ae9f-6090eda351f6",
   "metadata": {},
   "source": [
    "Q1.What is  an  API? Give an example , where  an API is used in real life. "
   ]
  },
  {
   "cell_type": "markdown",
   "id": "14c8f74d-1cb2-4e85-95d3-41a9b961320a",
   "metadata": {},
   "source": [
    "An API (Application Programming Interface) is a set of rules that allows two software applications to communicate with each other. It acts like a bridge between them.\n",
    "\n",
    "Example in Real Life:\n",
    "When you use a food delivery app, the app communicates with the restaurant's system through an API to check the menu, place orders, and track delivery."
   ]
  },
  {
   "cell_type": "markdown",
   "id": "a5dff8e4-a626-49d4-bec1-1247cdb6d9af",
   "metadata": {},
   "source": [
    "Q2. Give advantages and disadvantages of using API."
   ]
  },
  {
   "cell_type": "markdown",
   "id": "54efec29-65cf-4ed4-84cd-7e36c16e2115",
   "metadata": {},
   "source": [
    "Advantages of using API:\n",
    "\n",
    "Ease of Integration: Connects different systems easily.\n",
    "Automation: Reduces manual effort by automating tasks.\n",
    "Scalability: Allows apps to grow by integrating new features.\n",
    "Reusability: Saves time by reusing existing functionalities.\n",
    "\n",
    "Disadvantages of using API:\n",
    "\n",
    "Complexity: Some APIs can be difficult to implement.\n",
    "Dependency: Relies on third-party services, which may fail.\n",
    "Security Risks: Vulnerable to cyberattacks if not properly secured.\n",
    "Cost: Some APIs may charge fees for usage."
   ]
  },
  {
   "cell_type": "markdown",
   "id": "93412900-c6d8-4898-8255-25c1bda7a84d",
   "metadata": {},
   "source": [
    "Q3. What is a Web API? Differentiate between API and Web API."
   ]
  },
  {
   "cell_type": "markdown",
   "id": "49eae68f-75c6-422f-afe6-0346d6852208",
   "metadata": {},
   "source": [
    "A Web API is an API that can be accessed over the internet using HTTP protocols. It allows communication between applications, often web-based.\n",
    "\n",
    "Difference Between API and Web API:\n",
    "\n",
    "Definition:\n",
    "\n",
    "API: A set of rules that allows communication between software.\n",
    "Web API: A type of API accessible through the internet using HTTP.\n",
    "\n",
    "Access:\n",
    "\n",
    "API: Works locally or within a network.\n",
    "Web API: Always accessed online.\n",
    "\n",
    "Protocol:\n",
    "\n",
    "API: Can use various protocols (e.g., RPC, COM).\n",
    "Web API: Specifically uses HTTP/HTTPS.\n",
    "\n",
    "Usage:\n",
    "\n",
    "API: Includes system or library APIs (e.g., OS or database APIs).\n",
    "Web API: Includes internet-based services (e.g., RESTful APIs).\n",
    "\n",
    "Examples:\n",
    "\n",
    "API: Java API, Windows API.\n",
    "Web API: Twitter API, Google Maps API."
   ]
  },
  {
   "cell_type": "markdown",
   "id": "1bb5e46e-bb62-47ca-ae4e-b18d4969d6df",
   "metadata": {},
   "source": [
    "Q4. Explain REST and SOAP Architecture.Mention shortcomings of SOAP."
   ]
  },
  {
   "cell_type": "markdown",
   "id": "5b33ecc9-f9d6-42fb-9c9a-f22d3bbac6af",
   "metadata": {},
   "source": [
    "REST (Representational State Transfer):\n",
    "\n",
    "A lightweight architecture for web services.\n",
    "Uses standard HTTP methods (GET, POST, PUT, DELETE).\n",
    "Data format: JSON, XML, etc.\n",
    "Simple, scalable, and widely used (e.g., REST APIs).\n",
    "\n",
    "SOAP (Simple Object Access Protocol):\n",
    "\n",
    "A protocol for exchanging structured information.\n",
    "Uses XML for data format and strict rules for communication.\n",
    "Heavier and more complex than REST.\n",
    "\n",
    "Shortcomings of SOAP:\n",
    "\n",
    "Complexity: Requires more setup and resources.\n",
    "Performance: Slower due to XML-heavy messages.\n",
    "Limited Flexibility: Tied to specific protocols like HTTP and SMTP.\n",
    "Not Developer-Friendly: Harder to implement compared to REST."
   ]
  },
  {
   "cell_type": "markdown",
   "id": "cf3a8015-006f-4879-b4d0-33598a5cf16c",
   "metadata": {},
   "source": [
    "Q5. Differntiate between REST and SOAP."
   ]
  },
  {
   "cell_type": "markdown",
   "id": "8c091ef0-bd29-4616-9311-0d2d2f1d7baf",
   "metadata": {},
   "source": [
    "REST: Lightweight and flexible architecture. Supports JSON, XML, etc.  Faster and more efficient.  Works over HTTP. Simpler to implement and widely used.\n",
    "\n",
    "\n",
    "SOAP: Strict protocol with specific standards. Only uses XML. Slower due to heavy XML processing.  Works over multiple protocols (HTTP, SMTP). More complex and requires more resources."
   ]
  },
  {
   "cell_type": "code",
   "execution_count": null,
   "id": "047f67ab-a00b-41b8-b50c-dccf23d17e07",
   "metadata": {},
   "outputs": [],
   "source": []
  }
 ],
 "metadata": {
  "kernelspec": {
   "display_name": "Python 3 (ipykernel)",
   "language": "python",
   "name": "python3"
  },
  "language_info": {
   "codemirror_mode": {
    "name": "ipython",
    "version": 3
   },
   "file_extension": ".py",
   "mimetype": "text/x-python",
   "name": "python",
   "nbconvert_exporter": "python",
   "pygments_lexer": "ipython3",
   "version": "3.12.4"
  }
 },
 "nbformat": 4,
 "nbformat_minor": 5
}
